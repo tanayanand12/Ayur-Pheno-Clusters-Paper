{
 "cells": [
  {
   "cell_type": "code",
   "execution_count": 2,
   "metadata": {},
   "outputs": [],
   "source": [
    "import numpy as np \n",
    "import pandas as pd \n",
    "import pickle "
   ]
  },
  {
   "cell_type": "code",
   "execution_count": 3,
   "metadata": {},
   "outputs": [],
   "source": [
    "import pickle \n",
    "from collections import defaultdict\n",
    "\n",
    "def pickle_load(file_path):\n",
    "    \"\"\"\n",
    "    Loads a pickled object from the specified file path.\n",
    "    \"\"\"\n",
    "    with open(file_path, 'rb') as handle:\n",
    "        b = pickle.load(handle)\n",
    "    return b\n",
    "\n",
    "    # defining dictonary path \n",
    "path_disease_hpo_dict = 'D:/learning/HPOA dataset/GitHub uploads/version_141123_dictonaries/disease_hpo_dict_v141123.pickle'\n",
    "# path_disease_name_dict = '/home/tanay/COMAP/Final_concnecous/version_141123/version_141123_dictonaries/disease_name_dict_V_141123.pickle'\n",
    "# path_hpid_descriptions_dict = '/home/tanay/COMAP/Final_concnecous/version_141123/version_141123_dictonaries/hpid_descriptions_dict_V_141123.pickle'\n",
    "# path_hpid_vpk_label_dict = '/home/tanay/COMAP/Final_concnecous/version_141123/version_141123_dictonaries/hpid_vpk_label_dict_V_141123.pickle'\n",
    "# path_hpo_disease_dict = '/home/tanay/COMAP/Final_concnecous/version_141123/version_141123_dictonaries/hpo_disease_dict_v141123'\n",
    "# path_disease_vpk_count_dict = '/home/tanay/COMAP/Final_concnecous/version_141123/version_141123_dictonaries/disease_vpk_count_dict_V_141123.pickle'\n",
    "\n",
    "\n",
    "# loading dicts #tanay path\n",
    "disease_hpo_dict = pickle_load(path_disease_hpo_dict)\n",
    "# disease_name_dict =  pickle_load(path_disease_name_dict)\n",
    "# hpid_descriptions_dict =  pickle_load(path_hpid_descriptions_dict)\n",
    "# hpid_vpk_label_dict =  pickle_load(path_hpid_vpk_label_dict)\n",
    "# hpo_disease_dict =  pickle_load(path_hpo_disease_dict)\n",
    "# disease_vpk_count_dict = pickle_load(path_disease_vpk_count_dict)"
   ]
  },
  {
   "cell_type": "code",
   "execution_count": 4,
   "metadata": {},
   "outputs": [
    {
     "data": {
      "text/plain": [
       "12739"
      ]
     },
     "execution_count": 4,
     "metadata": {},
     "output_type": "execute_result"
    }
   ],
   "source": [
    "len(disease_hpo_dict.keys())"
   ]
  },
  {
   "cell_type": "code",
   "execution_count": 5,
   "metadata": {},
   "outputs": [
    {
     "data": {
      "text/plain": [
       "60"
      ]
     },
     "execution_count": 5,
     "metadata": {},
     "output_type": "execute_result"
    }
   ],
   "source": [
    "empty_keys = [key for key, value in disease_hpo_dict.items() if not value]\n",
    "len(empty_keys)"
   ]
  },
  {
   "cell_type": "code",
   "execution_count": null,
   "metadata": {},
   "outputs": [],
   "source": []
  }
 ],
 "metadata": {
  "kernelspec": {
   "display_name": "Python 3",
   "language": "python",
   "name": "python3"
  },
  "language_info": {
   "codemirror_mode": {
    "name": "ipython",
    "version": 3
   },
   "file_extension": ".py",
   "mimetype": "text/x-python",
   "name": "python",
   "nbconvert_exporter": "python",
   "pygments_lexer": "ipython3",
   "version": "3.9.6"
  }
 },
 "nbformat": 4,
 "nbformat_minor": 2
}
