{
 "cells": [
  {
   "cell_type": "code",
   "execution_count": 2,
   "metadata": {},
   "outputs": [],
   "source": [
    "import numpy as np \n",
    "import pandas as pd \n",
    "import pickle"
   ]
  },
  {
   "cell_type": "code",
   "execution_count": 3,
   "metadata": {},
   "outputs": [],
   "source": [
    "def pickle_load(file_path):\n",
    "    with open(file_path, 'rb') as handle:\n",
    "        b = pickle.load(handle)\n",
    "    return b"
   ]
  },
  {
   "cell_type": "code",
   "execution_count": 5,
   "metadata": {},
   "outputs": [],
   "source": [
    "def pickle_load(file_path):\n",
    "    with open(file_path, 'rb') as handle:\n",
    "        b = pickle.load(handle)\n",
    "    return b\n",
    "\n",
    "\n",
    "##----------------------------------------------\n",
    "\n",
    "\n",
    "path_disease_hpo_dict = 'D:\\learning\\HPOA dataset\\GitHub uploads\\Final_concnecous\\data_retrival\\disease_hpo_dict_V_110923.pickle'\n",
    "path_disease_name_dict = 'D:\\learning\\HPOA dataset\\GitHub uploads\\Final_concnecous\\data_retrival\\disease_name_dict_V_110923.pickle'\n",
    "path_hpid_descriptions_dict = 'D:\\learning\\HPOA dataset\\GitHub uploads\\Final_concnecous\\Version_110923\\pickled_dictonary_version110923\\hpid_descriptions_dict_V_180923.pickle'\n",
    "path_hpid_vpk_label_dict = 'D:\\learning\\HPOA dataset\\GitHub uploads\\Final_concnecous\\data_retrival\\hpid_vpk_label_dict_V_110923.pickle'\n",
    "path_hpo_disease_dict = 'D:\\learning\\HPOA dataset\\GitHub uploads\\Final_concnecous\\Version_110923\\pickled_dictonary_version110923\\hpo_disease_dict_V_160923.pickle'\n",
    "path_disease_vpk_count_dict = 'D:\\learning\\HPOA dataset\\GitHub uploads\\Final_concnecous\\data_retrival\\disease_vpk_count_dict_V_110923.pickle'\n",
    "\n",
    "##--------------------------------------------\n",
    "\n",
    "\n",
    "# loading dicts #tanay path\n",
    "disease_hpo_dict = pickle_load(path_disease_hpo_dict)\n",
    "disease_name_dict =  pickle_load(path_disease_name_dict)\n",
    "hpid_descriptions_dict =  pickle_load(path_hpid_descriptions_dict)\n",
    "hpid_vpk_label_dict =  pickle_load(path_hpid_vpk_label_dict)\n",
    "hpo_disease_dict =  pickle_load(path_hpo_disease_dict)\n",
    "disease_vpk_count_dict = pickle_load(path_disease_vpk_count_dict)"
   ]
  },
  {
   "cell_type": "code",
   "execution_count": 6,
   "metadata": {},
   "outputs": [],
   "source": [
    "def flatten_list(input_list):\n",
    "    \"\"\"\n",
    "    Flattens a list of lists into one long, flat list.\n",
    "    \"\"\"\n",
    "    input_list = [element for innerList in input_list for element in innerList]\n",
    "    return input_list\n",
    "\n",
    "def remove_duplicates_from_list(x):\n",
    "  return list(dict.fromkeys(x))"
   ]
  },
  {
   "cell_type": "code",
   "execution_count": 7,
   "metadata": {},
   "outputs": [],
   "source": [
    "nanatmaj_vata_disease_hpid_dict = pickle_load('D:/learning/HPOA dataset/GitHub uploads/market_basket_analysis/vata_mba/nanatmaj_vata_disease_hpid_dict_v180923.pickle')"
   ]
  },
  {
   "cell_type": "code",
   "execution_count": 8,
   "metadata": {},
   "outputs": [],
   "source": [
    "group_one_vata_diseases_df = pd.read_excel(r'D:\\learning\\HPOA dataset\\GitHub uploads\\market_basket_analysis\\vata_mba\\unique_vata_diseases_mba\\disease_id_to_infer\\set1_diseases_vata_nanatmaj.xlsx')\n",
    "# group_one_vata_diseases_df"
   ]
  },
  {
   "cell_type": "code",
   "execution_count": 9,
   "metadata": {},
   "outputs": [],
   "source": [
    "group_two_vata_diseases_df = pd.read_excel(r'D:\\learning\\HPOA dataset\\GitHub uploads\\market_basket_analysis\\vata_mba\\unique_vata_diseases_mba\\disease_id_to_infer\\set2_diseases_vata_nanatmaj.xlsx')\n",
    "# group_two_vata_diseases_df"
   ]
  },
  {
   "cell_type": "code",
   "execution_count": 10,
   "metadata": {},
   "outputs": [],
   "source": [
    "group_three_vata_diseases_df = pd.read_excel(r'D:\\learning\\HPOA dataset\\GitHub uploads\\market_basket_analysis\\vata_mba\\unique_vata_diseases_mba\\disease_id_to_infer\\set3_disease_vata_nanatmaj.xlsx')\n",
    "# group_three_vata_diseases_df"
   ]
  },
  {
   "cell_type": "code",
   "execution_count": 11,
   "metadata": {},
   "outputs": [
    {
     "data": {
      "text/plain": [
       "pandas.core.frame.DataFrame"
      ]
     },
     "execution_count": 11,
     "metadata": {},
     "output_type": "execute_result"
    }
   ],
   "source": [
    "type(group_one_vata_diseases_df)"
   ]
  },
  {
   "cell_type": "code",
   "execution_count": 12,
   "metadata": {},
   "outputs": [
    {
     "data": {
      "text/plain": [
       "list"
      ]
     },
     "execution_count": 12,
     "metadata": {},
     "output_type": "execute_result"
    }
   ],
   "source": [
    "abc_list = [1, 2, 3]\n",
    "type(abc_list)"
   ]
  },
  {
   "cell_type": "code",
   "execution_count": 13,
   "metadata": {},
   "outputs": [],
   "source": [
    "group_one_vata_diseases_list = group_one_vata_diseases_df.values.tolist()\n",
    "group_one_vata_diseases_list = remove_duplicates_from_list(flatten_list(group_one_vata_diseases_list))\n",
    "# group_one_vata_diseases_list"
   ]
  },
  {
   "cell_type": "code",
   "execution_count": 32,
   "metadata": {},
   "outputs": [],
   "source": [
    "def vata_phenotype_retrival(disease_list):\n",
    "    \"\"\"\n",
    "    retrives vata phenotypes for the diseases\n",
    "\n",
    "    assumed column name: OMIM_ID #do change as per the need \n",
    "    \"\"\"\n",
    "\n",
    "    # if(type(disease_list) != 'list'):\n",
    "    #     disease_list = remove_duplicates_from_list(flatten_list(disease_list.values.tolist()))\n",
    "\n",
    "    result_disease_hpid_list = []\n",
    "    for disease_id in disease_list:\n",
    "        temp_hpid_list = nanatmaj_vata_disease_hpid_dict[disease_id]\n",
    "        \n",
    "        for hpid in temp_hpid_list:\n",
    "            temp_disease_hpid_list  = []\n",
    "            temp_disease_hpid_list.append(disease_id)\n",
    "            temp_disease_hpid_list.append(disease_name_dict[disease_id][0])\n",
    "            temp_disease_hpid_list.append(hpid)\n",
    "            temp_disease_hpid_list.append(hpid_descriptions_dict[hpid])\n",
    "            result_disease_hpid_list.append(temp_disease_hpid_list)\n",
    "            # temp_disease_hpid_list.clear()\n",
    "    \n",
    "    return result_disease_hpid_list"
   ]
  },
  {
   "cell_type": "code",
   "execution_count": 33,
   "metadata": {},
   "outputs": [
    {
     "data": {
      "text/html": [
       "<div>\n",
       "<style scoped>\n",
       "    .dataframe tbody tr th:only-of-type {\n",
       "        vertical-align: middle;\n",
       "    }\n",
       "\n",
       "    .dataframe tbody tr th {\n",
       "        vertical-align: top;\n",
       "    }\n",
       "\n",
       "    .dataframe thead th {\n",
       "        text-align: right;\n",
       "    }\n",
       "</style>\n",
       "<table border=\"1\" class=\"dataframe\">\n",
       "  <thead>\n",
       "    <tr style=\"text-align: right;\">\n",
       "      <th></th>\n",
       "      <th>Disease_ID</th>\n",
       "      <th>Disease_Name</th>\n",
       "      <th>Phenotype_ID</th>\n",
       "      <th>Phenotype_Name</th>\n",
       "    </tr>\n",
       "  </thead>\n",
       "  <tbody>\n",
       "    <tr>\n",
       "      <th>0</th>\n",
       "      <td>OMIM:615546</td>\n",
       "      <td>Van maldergem syndrome 2</td>\n",
       "      <td>HP:0000508</td>\n",
       "      <td>Ptosis</td>\n",
       "    </tr>\n",
       "    <tr>\n",
       "      <th>1</th>\n",
       "      <td>OMIM:615546</td>\n",
       "      <td>Van maldergem syndrome 2</td>\n",
       "      <td>HP:0001762</td>\n",
       "      <td>Talipes equinovarus</td>\n",
       "    </tr>\n",
       "    <tr>\n",
       "      <th>2</th>\n",
       "      <td>OMIM:615546</td>\n",
       "      <td>Van maldergem syndrome 2</td>\n",
       "      <td>HP:0001760</td>\n",
       "      <td>Abnormal foot morphology</td>\n",
       "    </tr>\n",
       "    <tr>\n",
       "      <th>3</th>\n",
       "      <td>OMIM:211500</td>\n",
       "      <td>Bulbar palsy, progressive, of childhood</td>\n",
       "      <td>HP:0000508</td>\n",
       "      <td>Ptosis</td>\n",
       "    </tr>\n",
       "    <tr>\n",
       "      <th>4</th>\n",
       "      <td>OMIM:113620</td>\n",
       "      <td>Branchiooculofacial syndrome</td>\n",
       "      <td>HP:0000508</td>\n",
       "      <td>Ptosis</td>\n",
       "    </tr>\n",
       "    <tr>\n",
       "      <th>...</th>\n",
       "      <td>...</td>\n",
       "      <td>...</td>\n",
       "      <td>...</td>\n",
       "      <td>...</td>\n",
       "    </tr>\n",
       "    <tr>\n",
       "      <th>4532</th>\n",
       "      <td>ORPHA:79107</td>\n",
       "      <td>Developmental malformations-deafness-dystonia ...</td>\n",
       "      <td>HP:0004322</td>\n",
       "      <td>Short stature</td>\n",
       "    </tr>\n",
       "    <tr>\n",
       "      <th>4533</th>\n",
       "      <td>ORPHA:1695</td>\n",
       "      <td>Non-distal trisomy 10q</td>\n",
       "      <td>HP:0004322</td>\n",
       "      <td>Short stature</td>\n",
       "    </tr>\n",
       "    <tr>\n",
       "      <th>4534</th>\n",
       "      <td>ORPHA:79113</td>\n",
       "      <td>Mandibulofacial dysostosis-microcephaly syndrome</td>\n",
       "      <td>HP:0001250</td>\n",
       "      <td>Seizure</td>\n",
       "    </tr>\n",
       "    <tr>\n",
       "      <th>4535</th>\n",
       "      <td>ORPHA:79113</td>\n",
       "      <td>Mandibulofacial dysostosis-microcephaly syndrome</td>\n",
       "      <td>HP:0004322</td>\n",
       "      <td>Short stature</td>\n",
       "    </tr>\n",
       "    <tr>\n",
       "      <th>4536</th>\n",
       "      <td>ORPHA:1699</td>\n",
       "      <td>Trisomy 12p</td>\n",
       "      <td>HP:0004322</td>\n",
       "      <td>Short stature</td>\n",
       "    </tr>\n",
       "  </tbody>\n",
       "</table>\n",
       "<p>4537 rows × 4 columns</p>\n",
       "</div>"
      ],
      "text/plain": [
       "       Disease_ID                                       Disease_Name  \\\n",
       "0     OMIM:615546                           Van maldergem syndrome 2   \n",
       "1     OMIM:615546                           Van maldergem syndrome 2   \n",
       "2     OMIM:615546                           Van maldergem syndrome 2   \n",
       "3     OMIM:211500            Bulbar palsy, progressive, of childhood   \n",
       "4     OMIM:113620                       Branchiooculofacial syndrome   \n",
       "...           ...                                                ...   \n",
       "4532  ORPHA:79107  Developmental malformations-deafness-dystonia ...   \n",
       "4533   ORPHA:1695                             Non-distal trisomy 10q   \n",
       "4534  ORPHA:79113   Mandibulofacial dysostosis-microcephaly syndrome   \n",
       "4535  ORPHA:79113   Mandibulofacial dysostosis-microcephaly syndrome   \n",
       "4536   ORPHA:1699                                        Trisomy 12p   \n",
       "\n",
       "     Phenotype_ID            Phenotype_Name  \n",
       "0      HP:0000508                    Ptosis  \n",
       "1      HP:0001762       Talipes equinovarus  \n",
       "2      HP:0001760  Abnormal foot morphology  \n",
       "3      HP:0000508                    Ptosis  \n",
       "4      HP:0000508                    Ptosis  \n",
       "...           ...                       ...  \n",
       "4532   HP:0004322             Short stature  \n",
       "4533   HP:0004322             Short stature  \n",
       "4534   HP:0001250                   Seizure  \n",
       "4535   HP:0004322             Short stature  \n",
       "4536   HP:0004322             Short stature  \n",
       "\n",
       "[4537 rows x 4 columns]"
      ]
     },
     "execution_count": 33,
     "metadata": {},
     "output_type": "execute_result"
    }
   ],
   "source": [
    "group_one_vata_diseases_hpid_df = vata_phenotype_retrival(group_one_vata_diseases_list)\n",
    "group_one_vata_diseases_hpid_df = pd.DataFrame(group_one_vata_diseases_hpid_df, columns=['Disease_ID', 'Disease_Name', 'Phenotype_ID', 'Phenotype_Name'])\n",
    "group_one_vata_diseases_hpid_df"
   ]
  },
  {
   "cell_type": "code",
   "execution_count": 34,
   "metadata": {},
   "outputs": [
    {
     "data": {
      "text/plain": [
       "[]"
      ]
     },
     "execution_count": 34,
     "metadata": {},
     "output_type": "execute_result"
    },
    {
     "ename": "",
     "evalue": "",
     "output_type": "error",
     "traceback": [
      "\u001b[1;31mThe Kernel crashed while executing code in the the current cell or a previous cell. Please review the code in the cell(s) to identify a possible cause of the failure. Click <a href='https://aka.ms/vscodeJupyterKernelCrash'>here</a> for more info. View Jupyter <a href='command:jupyter.viewOutput'>log</a> for further details."
     ]
    }
   ],
   "source": [
    "group_two_vata_diseases_hpid_df = vata_phenotype_retrival(group_two_vata_diseases_df)\n",
    "group_two_vata_diseases_hpid_df "
   ]
  },
  {
   "cell_type": "code",
   "execution_count": null,
   "metadata": {},
   "outputs": [],
   "source": []
  },
  {
   "cell_type": "code",
   "execution_count": null,
   "metadata": {},
   "outputs": [],
   "source": []
  }
 ],
 "metadata": {
  "kernelspec": {
   "display_name": "Python 3",
   "language": "python",
   "name": "python3"
  },
  "language_info": {
   "codemirror_mode": {
    "name": "ipython",
    "version": 3
   },
   "file_extension": ".py",
   "mimetype": "text/x-python",
   "name": "python",
   "nbconvert_exporter": "python",
   "pygments_lexer": "ipython3",
   "version": "3.9.6"
  },
  "orig_nbformat": 4
 },
 "nbformat": 4,
 "nbformat_minor": 2
}
