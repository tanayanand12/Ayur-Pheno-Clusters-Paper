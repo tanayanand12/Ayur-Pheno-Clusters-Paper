{
 "cells": [
  {
   "cell_type": "code",
   "execution_count": 1,
   "metadata": {},
   "outputs": [],
   "source": [
    "import pandas as pd \n",
    "import numpy as np\n",
    "import pickle\n",
    "from collections import defaultdict"
   ]
  },
  {
   "cell_type": "code",
   "execution_count": 2,
   "metadata": {},
   "outputs": [],
   "source": [
    "def pickle_load(file_path):\n",
    "    \"\"\"\n",
    "    Loads a pickled object from the specified file path.\n",
    "    \"\"\"\n",
    "    with open(file_path, 'rb') as handle:\n",
    "        b = pickle.load(handle)\n",
    "    return b\n",
    "\n",
    "    # defining dictonary path \n",
    "path_disease_hpo_dict = 'D:\\learning\\HPOA dataset\\GitHub uploads\\Final_concnecous\\data_retrival\\disease_hpo_dict_V_110923.pickle'\n",
    "path_disease_name_dict = 'D:\\learning\\HPOA dataset\\GitHub uploads\\Final_concnecous\\data_retrival\\disease_name_dict_V_110923.pickle'\n",
    "path_hpid_descriptions_dict = 'D:\\learning\\HPOA dataset\\GitHub uploads\\Final_concnecous\\data_retrival\\hpid_descriptions_dict_V_110923.pickle'\n",
    "path_hpid_vpk_label_dict = 'D:\\learning\\HPOA dataset\\GitHub uploads\\Final_concnecous\\data_retrival\\hpid_vpk_label_dict_V_110923.pickle'\n",
    "# path_hpo_disease_dict = 'D:\\learning\\HPOA dataset\\GitHub uploads\\Final_concnecous\\data_retrival\\hpo_disease_dict_V_110923.pickle'\n",
    "path_disease_vpk_count_dict = 'D:\\learning\\HPOA dataset\\GitHub uploads\\Final_concnecous\\data_retrival\\disease_vpk_count_dict_V_110923.pickle'\n",
    "\n",
    "\n",
    "# loading dicts #tanay path\n",
    "disease_hpo_dict = pickle_load(path_disease_hpo_dict)\n",
    "disease_name_dict =  pickle_load(path_disease_name_dict)\n",
    "hpid_descriptions_dict =  pickle_load(path_hpid_descriptions_dict)\n",
    "hpid_vpk_label_dict =  pickle_load(path_hpid_vpk_label_dict)\n",
    "# hpo_disease_dict =  pickle_load(path_hpo_disease_dict)\n",
    "disease_vpk_count_dict = pickle_load(path_disease_vpk_count_dict)"
   ]
  },
  {
   "cell_type": "code",
   "execution_count": 3,
   "metadata": {},
   "outputs": [],
   "source": [
    "hpo_disease_dict = {}\n",
    "\n",
    "for disease, phenotypes in disease_hpo_dict.items():\n",
    "    for phenotype in phenotypes:\n",
    "        if phenotype in hpo_disease_dict:\n",
    "            hpo_disease_dict[phenotype].append(disease)\n",
    "        else:\n",
    "            hpo_disease_dict[phenotype] = [disease]\n"
   ]
  },
  {
   "cell_type": "code",
   "execution_count": 4,
   "metadata": {},
   "outputs": [],
   "source": [
    "def pickle_save(file_name, dict_name):\n",
    "    with open(file_name, 'wb') as handle:\n",
    "        pickle.dump(dict_name, handle, protocol=pickle.HIGHEST_PROTOCOL)"
   ]
  },
  {
   "cell_type": "code",
   "execution_count": 18,
   "metadata": {},
   "outputs": [],
   "source": [
    "version_date = '180923'"
   ]
  },
  {
   "cell_type": "code",
   "execution_count": 6,
   "metadata": {},
   "outputs": [],
   "source": [
    "# pickle_save('hpo_disease_dict_V_' + version_date + '.pickle', disease_name_dict)"
   ]
  },
  {
   "cell_type": "code",
   "execution_count": 7,
   "metadata": {},
   "outputs": [
    {
     "data": {
      "text/plain": [
       "['OMIM:618076',\n",
       " 'OMIM:618249',\n",
       " 'OMIM:618088',\n",
       " 'OMIM:617622',\n",
       " 'OMIM:300966',\n",
       " 'OMIM:618501',\n",
       " 'OMIM:614688',\n",
       " 'OMIM:614932',\n",
       " 'OMIM:615386',\n",
       " 'OMIM:108600',\n",
       " 'OMIM:614820',\n",
       " 'OMIM:143100',\n",
       " 'OMIM:617284',\n",
       " 'OMIM:253800',\n",
       " 'OMIM:617282',\n",
       " 'OMIM:614815',\n",
       " 'OMIM:618343',\n",
       " 'OMIM:300894',\n",
       " 'OMIM:233910',\n",
       " 'OMIM:617106',\n",
       " 'OMIM:257920',\n",
       " 'OMIM:500001',\n",
       " 'OMIM:615846',\n",
       " 'OMIM:616034',\n",
       " 'OMIM:618493',\n",
       " 'OMIM:607565',\n",
       " 'OMIM:271980',\n",
       " 'OMIM:604326',\n",
       " 'OMIM:615398',\n",
       " 'OMIM:618124',\n",
       " 'OMIM:245349',\n",
       " 'OMIM:617822',\n",
       " 'OMIM:616490',\n",
       " 'OMIM:312170',\n",
       " 'ORPHA:399',\n",
       " 'ORPHA:240085',\n",
       " 'ORPHA:228396',\n",
       " 'ORPHA:99027',\n",
       " 'ORPHA:307',\n",
       " 'ORPHA:97229',\n",
       " 'ORPHA:95434',\n",
       " 'ORPHA:99',\n",
       " 'ORPHA:3222',\n",
       " 'ORPHA:99852',\n",
       " 'ORPHA:3217',\n",
       " 'ORPHA:3205',\n",
       " 'ORPHA:58',\n",
       " 'ORPHA:51',\n",
       " 'ORPHA:2753',\n",
       " 'ORPHA:289494',\n",
       " 'ORPHA:2836',\n",
       " 'ORPHA:233',\n",
       " 'ORPHA:97349',\n",
       " 'ORPHA:53719',\n",
       " 'ORPHA:488594',\n",
       " 'ORPHA:100',\n",
       " 'ORPHA:329284',\n",
       " 'ORPHA:544503',\n",
       " 'ORPHA:3006',\n",
       " 'ORPHA:247234',\n",
       " 'ORPHA:98755',\n",
       " 'ORPHA:139406',\n",
       " 'ORPHA:300570',\n",
       " 'ORPHA:863',\n",
       " 'ORPHA:1398',\n",
       " 'ORPHA:352649',\n",
       " 'ORPHA:70474',\n",
       " 'ORPHA:157941',\n",
       " 'ORPHA:792',\n",
       " 'ORPHA:773',\n",
       " 'ORPHA:765',\n",
       " 'ORPHA:845',\n",
       " 'ORPHA:2388',\n",
       " 'ORPHA:838',\n",
       " 'ORPHA:98913',\n",
       " 'ORPHA:79101',\n",
       " 'ORPHA:157850',\n",
       " 'ORPHA:1941',\n",
       " 'ORPHA:66631',\n",
       " 'ORPHA:683',\n",
       " 'ORPHA:293168',\n",
       " 'ORPHA:435628',\n",
       " 'ORPHA:79096',\n",
       " 'ORPHA:1171',\n",
       " 'ORPHA:1179',\n",
       " 'ORPHA:100996',\n",
       " 'ORPHA:254892',\n",
       " 'ORPHA:449563',\n",
       " 'ORPHA:2072',\n",
       " 'ORPHA:319514',\n",
       " 'ORPHA:3454',\n",
       " 'ORPHA:447788',\n",
       " 'ORPHA:2101',\n",
       " 'ORPHA:79138',\n",
       " 'ORPHA:99750',\n",
       " 'ORPHA:2285',\n",
       " 'ORPHA:369939',\n",
       " 'ORPHA:210272',\n",
       " 'ORPHA:79244']"
      ]
     },
     "execution_count": 7,
     "metadata": {},
     "output_type": "execute_result"
    }
   ],
   "source": [
    "hpo_disease_dict['HP:0000496']"
   ]
  },
  {
   "cell_type": "code",
   "execution_count": 12,
   "metadata": {},
   "outputs": [],
   "source": [
    "frozen_concencous_hpid_vpk_label = pd.read_excel(r'D:\\learning\\HPOA dataset\\GitHub uploads\\Final_concnecous\\Frozen_consensus_MasterSheet_V.1.0_HPOtermsWithVPK.xlsx')\n",
    "\n",
    "hpo_descriptions_dict_making_df = frozen_concencous_hpid_vpk_label[['HP_Terms', 'Description']]\n",
    "# hpo_descriptions_dict_making_df\n",
    "\n"
   ]
  },
  {
   "cell_type": "code",
   "execution_count": 15,
   "metadata": {},
   "outputs": [],
   "source": [
    "hpo_descriptions_dict = defaultdict(str)\n",
    "\n",
    "for i in range(len(hpo_descriptions_dict_making_df)):\n",
    "    hpo_descriptions_dict[hpo_descriptions_dict_making_df.iloc[i, 0]] = hpo_descriptions_dict_making_df.iloc[i, 1]"
   ]
  },
  {
   "cell_type": "code",
   "execution_count": 21,
   "metadata": {},
   "outputs": [
    {
     "ename": "",
     "evalue": "",
     "output_type": "error",
     "traceback": [
      "\u001b[1;31mThe Kernel crashed while executing code in the the current cell or a previous cell. Please review the code in the cell(s) to identify a possible cause of the failure. Click <a href='https://aka.ms/vscodeJupyterKernelCrash'>here</a> for more info. View Jupyter <a href='command:jupyter.viewOutput'>log</a> for further details."
     ]
    }
   ],
   "source": [
    "# pickle_save('hpid_descriptions_dict_V_' + version_date + '.pickle', hpo_descriptions_dict)"
   ]
  },
  {
   "cell_type": "code",
   "execution_count": null,
   "metadata": {},
   "outputs": [],
   "source": []
  }
 ],
 "metadata": {
  "kernelspec": {
   "display_name": "Python 3",
   "language": "python",
   "name": "python3"
  },
  "language_info": {
   "codemirror_mode": {
    "name": "ipython",
    "version": 3
   },
   "file_extension": ".py",
   "mimetype": "text/x-python",
   "name": "python",
   "nbconvert_exporter": "python",
   "pygments_lexer": "ipython3",
   "version": "3.9.6"
  },
  "orig_nbformat": 4
 },
 "nbformat": 4,
 "nbformat_minor": 2
}
