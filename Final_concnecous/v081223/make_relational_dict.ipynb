{
 "cells": [
  {
   "cell_type": "markdown",
   "metadata": {},
   "source": [
    "Import statements "
   ]
  },
  {
   "cell_type": "code",
   "execution_count": 57,
   "metadata": {},
   "outputs": [],
   "source": [
    "import pandas as pd \n",
    "import numpy as np \n",
    "import json\n",
    "from collections import defaultdict\n",
    "import pickle"
   ]
  },
  {
   "cell_type": "markdown",
   "metadata": {},
   "source": [
    "setting up dataframes "
   ]
  },
  {
   "cell_type": "markdown",
   "metadata": {},
   "source": [
    "importing the hpoa file "
   ]
  },
  {
   "cell_type": "code",
   "execution_count": 58,
   "metadata": {},
   "outputs": [
    {
     "name": "stderr",
     "output_type": "stream",
     "text": [
      "/tmp/ipykernel_28185/2265009699.py:1: DtypeWarning: Columns (6,8,9) have mixed types. Specify dtype option on import or set low_memory=False.\n",
      "  hpoa_df = pd.read_csv('/home/tanay/COMAP/Final_concnecous/dictonary_making/phenotype_new.txt',  sep='\\t')\n"
     ]
    }
   ],
   "source": [
    "hpoa_df = pd.read_csv('/home/tanay/COMAP/Final_concnecous/dictonary_making/phenotype_new.txt',  sep='\\t')\n"
   ]
  },
  {
   "cell_type": "markdown",
   "metadata": {},
   "source": [
    "making of first dataframe array from hpoa file "
   ]
  },
  {
   "cell_type": "code",
   "execution_count": 59,
   "metadata": {},
   "outputs": [],
   "source": [
    "dict_making_df1 = hpoa_df[['DatabaseID', 'HPO_ID']]\n",
    "dict_making_df1_array = dict_making_df1.to_numpy()"
   ]
  },
  {
   "cell_type": "markdown",
   "metadata": {},
   "source": [
    "importing gene to phenotype file "
   ]
  },
  {
   "cell_type": "code",
   "execution_count": 60,
   "metadata": {},
   "outputs": [
    {
     "data": {
      "text/plain": [
       "Index(['ncbi_gene_id', 'gene_symbol', 'hpo_id', 'hpo_name', 'frequency',\n",
       "       'disease_id'],\n",
       "      dtype='object')"
      ]
     },
     "execution_count": 60,
     "metadata": {},
     "output_type": "execute_result"
    }
   ],
   "source": [
    "gene_to_phenotype_df = pd.read_csv('/home/tanay/COMAP/Final_concnecous/dictonary_making/v081223/genes_to_phenotype.txt', sep='\\t', low_memory=False)\n",
    "gene_to_phenotype_df.columns"
   ]
  },
  {
   "cell_type": "markdown",
   "metadata": {},
   "source": [
    "making of second dataframe from gene to phenotype file "
   ]
  },
  {
   "cell_type": "code",
   "execution_count": 61,
   "metadata": {},
   "outputs": [],
   "source": [
    "dict_making_df2 = gene_to_phenotype_df[['disease_id', 'hpo_id']]\n",
    "dict_making_df2_array = dict_making_df2.to_numpy()"
   ]
  },
  {
   "cell_type": "markdown",
   "metadata": {},
   "source": [
    "concatination of both numpy arrays of the dataframe created"
   ]
  },
  {
   "cell_type": "code",
   "execution_count": 62,
   "metadata": {},
   "outputs": [
    {
     "data": {
      "text/plain": [
       "547245"
      ]
     },
     "execution_count": 62,
     "metadata": {},
     "output_type": "execute_result"
    }
   ],
   "source": [
    "dict_making_df_array = np.concatenate((dict_making_df1_array, dict_making_df2_array))\n",
    "\n",
    "len(dict_making_df_array)"
   ]
  },
  {
   "cell_type": "markdown",
   "metadata": {},
   "source": []
  },
  {
   "cell_type": "code",
   "execution_count": 63,
   "metadata": {},
   "outputs": [
    {
     "data": {
      "text/plain": [
       "array([['OMIM:619340', 'HP:0011097'],\n",
       "       ['OMIM:619340', 'HP:0002187'],\n",
       "       ['OMIM:619340', 'HP:0001518'],\n",
       "       ...,\n",
       "       ['OMIM:146550', 'HP:0045075'],\n",
       "       ['OMIM:146550', 'HP:0001596'],\n",
       "       ['OMIM:146550', 'HP:0030056']], dtype=object)"
      ]
     },
     "execution_count": 63,
     "metadata": {},
     "output_type": "execute_result"
    }
   ],
   "source": [
    "dict_making_df_array"
   ]
  },
  {
   "cell_type": "markdown",
   "metadata": {},
   "source": [
    "test dictonary making - naming convention -- 1 (as suffix)"
   ]
  },
  {
   "cell_type": "code",
   "execution_count": 64,
   "metadata": {},
   "outputs": [],
   "source": [
    "disease_hpo_dict1 = defaultdict(list)\n",
    "\n",
    "for DiseaseID, HPO_ID in dict_making_df_array:\n",
    "    disease_hpo_dict1[DiseaseID].append(HPO_ID)"
   ]
  },
  {
   "cell_type": "code",
   "execution_count": 65,
   "metadata": {},
   "outputs": [
    {
     "data": {
      "text/plain": [
       "12911"
      ]
     },
     "execution_count": 65,
     "metadata": {},
     "output_type": "execute_result"
    }
   ],
   "source": [
    "len(disease_hpo_dict1)"
   ]
  },
  {
   "cell_type": "code",
   "execution_count": 66,
   "metadata": {},
   "outputs": [],
   "source": [
    "hpo_disease_dict1 = defaultdict(list)\n",
    "\n",
    "for DiseaseID, HPO_ID in dict_making_df_array:\n",
    "    hpo_disease_dict1[HPO_ID].append(DiseaseID)"
   ]
  },
  {
   "cell_type": "code",
   "execution_count": 67,
   "metadata": {},
   "outputs": [
    {
     "data": {
      "text/plain": [
       "10796"
      ]
     },
     "execution_count": 67,
     "metadata": {},
     "output_type": "execute_result"
    }
   ],
   "source": [
    "len(hpo_disease_dict1)"
   ]
  },
  {
   "cell_type": "markdown",
   "metadata": {},
   "source": [
    "importing disease vpk count df for disease set"
   ]
  },
  {
   "cell_type": "code",
   "execution_count": 68,
   "metadata": {},
   "outputs": [
    {
     "data": {
      "text/plain": [
       "Index(['Disease_ID', 'V_Count', 'P_Count', 'K_Count'], dtype='object')"
      ]
     },
     "execution_count": 68,
     "metadata": {},
     "output_type": "execute_result"
    }
   ],
   "source": [
    "disease_vpk_count_df = pd.read_excel('/home/tanay/COMAP/Final_concnecous/dictonary_making/v081223/Frozen_consensus_MasterSheet_HPODiseaseWithVPK_V_110923.xlsx')\n",
    "disease_vpk_count_df.columns"
   ]
  },
  {
   "cell_type": "markdown",
   "metadata": {},
   "source": [
    "making disease set"
   ]
  },
  {
   "cell_type": "code",
   "execution_count": 69,
   "metadata": {},
   "outputs": [
    {
     "data": {
      "text/plain": [
       "12737"
      ]
     },
     "execution_count": 69,
     "metadata": {},
     "output_type": "execute_result"
    }
   ],
   "source": [
    "disease_set = set(disease_vpk_count_df['Disease_ID'].to_list())\n",
    "len(disease_set)"
   ]
  },
  {
   "cell_type": "markdown",
   "metadata": {},
   "source": [
    "importing hpid vpk labek file for hpid set"
   ]
  },
  {
   "cell_type": "code",
   "execution_count": 70,
   "metadata": {},
   "outputs": [
    {
     "data": {
      "text/plain": [
       "Index(['HP_Terms', 'Description', 'V', 'P', 'K'], dtype='object')"
      ]
     },
     "execution_count": 70,
     "metadata": {},
     "output_type": "execute_result"
    }
   ],
   "source": [
    "hpid_vpk_label_df = pd.read_excel('/home/tanay/COMAP/Final_concnecous/dictonary_making/v081223/Frozen_consensus_MasterSheet_HPOtermsWithVPK_V_110923xlsx.xlsx')\n",
    "hpid_vpk_label_df.columns"
   ]
  },
  {
   "cell_type": "markdown",
   "metadata": {},
   "source": [
    "making of hpid set"
   ]
  },
  {
   "cell_type": "code",
   "execution_count": 71,
   "metadata": {},
   "outputs": [
    {
     "data": {
      "text/plain": [
       "10610"
      ]
     },
     "execution_count": 71,
     "metadata": {},
     "output_type": "execute_result"
    }
   ],
   "source": [
    "hpid_set = set(hpid_vpk_label_df['HP_Terms'].to_list())\n",
    "len(hpid_set)"
   ]
  },
  {
   "cell_type": "markdown",
   "metadata": {},
   "source": [
    "converting concatinated array to dateframe "
   ]
  },
  {
   "cell_type": "code",
   "execution_count": 72,
   "metadata": {},
   "outputs": [
    {
     "data": {
      "text/html": [
       "<div>\n",
       "<style scoped>\n",
       "    .dataframe tbody tr th:only-of-type {\n",
       "        vertical-align: middle;\n",
       "    }\n",
       "\n",
       "    .dataframe tbody tr th {\n",
       "        vertical-align: top;\n",
       "    }\n",
       "\n",
       "    .dataframe thead th {\n",
       "        text-align: right;\n",
       "    }\n",
       "</style>\n",
       "<table border=\"1\" class=\"dataframe\">\n",
       "  <thead>\n",
       "    <tr style=\"text-align: right;\">\n",
       "      <th></th>\n",
       "      <th>disease_id</th>\n",
       "      <th>hp_id</th>\n",
       "    </tr>\n",
       "  </thead>\n",
       "  <tbody>\n",
       "    <tr>\n",
       "      <th>0</th>\n",
       "      <td>OMIM:619340</td>\n",
       "      <td>HP:0011097</td>\n",
       "    </tr>\n",
       "    <tr>\n",
       "      <th>1</th>\n",
       "      <td>OMIM:619340</td>\n",
       "      <td>HP:0002187</td>\n",
       "    </tr>\n",
       "    <tr>\n",
       "      <th>2</th>\n",
       "      <td>OMIM:619340</td>\n",
       "      <td>HP:0001518</td>\n",
       "    </tr>\n",
       "    <tr>\n",
       "      <th>3</th>\n",
       "      <td>OMIM:619340</td>\n",
       "      <td>HP:0032792</td>\n",
       "    </tr>\n",
       "    <tr>\n",
       "      <th>4</th>\n",
       "      <td>OMIM:619340</td>\n",
       "      <td>HP:0011451</td>\n",
       "    </tr>\n",
       "    <tr>\n",
       "      <th>...</th>\n",
       "      <td>...</td>\n",
       "      <td>...</td>\n",
       "    </tr>\n",
       "    <tr>\n",
       "      <th>547240</th>\n",
       "      <td>OMIM:146550</td>\n",
       "      <td>HP:0002209</td>\n",
       "    </tr>\n",
       "    <tr>\n",
       "      <th>547241</th>\n",
       "      <td>OMIM:146550</td>\n",
       "      <td>HP:0000653</td>\n",
       "    </tr>\n",
       "    <tr>\n",
       "      <th>547242</th>\n",
       "      <td>OMIM:146550</td>\n",
       "      <td>HP:0045075</td>\n",
       "    </tr>\n",
       "    <tr>\n",
       "      <th>547243</th>\n",
       "      <td>OMIM:146550</td>\n",
       "      <td>HP:0001596</td>\n",
       "    </tr>\n",
       "    <tr>\n",
       "      <th>547244</th>\n",
       "      <td>OMIM:146550</td>\n",
       "      <td>HP:0030056</td>\n",
       "    </tr>\n",
       "  </tbody>\n",
       "</table>\n",
       "<p>547245 rows × 2 columns</p>\n",
       "</div>"
      ],
      "text/plain": [
       "         disease_id       hp_id\n",
       "0       OMIM:619340  HP:0011097\n",
       "1       OMIM:619340  HP:0002187\n",
       "2       OMIM:619340  HP:0001518\n",
       "3       OMIM:619340  HP:0032792\n",
       "4       OMIM:619340  HP:0011451\n",
       "...             ...         ...\n",
       "547240  OMIM:146550  HP:0002209\n",
       "547241  OMIM:146550  HP:0000653\n",
       "547242  OMIM:146550  HP:0045075\n",
       "547243  OMIM:146550  HP:0001596\n",
       "547244  OMIM:146550  HP:0030056\n",
       "\n",
       "[547245 rows x 2 columns]"
      ]
     },
     "execution_count": 72,
     "metadata": {},
     "output_type": "execute_result"
    }
   ],
   "source": [
    "dict_making_df1 = pd.DataFrame(dict_making_df_array, columns=['disease_id', 'hp_id'])\n",
    "dict_making_df1"
   ]
  },
  {
   "cell_type": "markdown",
   "metadata": {},
   "source": [
    "taking set intersection of the dataframe columns "
   ]
  },
  {
   "cell_type": "code",
   "execution_count": 73,
   "metadata": {},
   "outputs": [
    {
     "data": {
      "text/html": [
       "<div>\n",
       "<style scoped>\n",
       "    .dataframe tbody tr th:only-of-type {\n",
       "        vertical-align: middle;\n",
       "    }\n",
       "\n",
       "    .dataframe tbody tr th {\n",
       "        vertical-align: top;\n",
       "    }\n",
       "\n",
       "    .dataframe thead th {\n",
       "        text-align: right;\n",
       "    }\n",
       "</style>\n",
       "<table border=\"1\" class=\"dataframe\">\n",
       "  <thead>\n",
       "    <tr style=\"text-align: right;\">\n",
       "      <th></th>\n",
       "      <th>disease_id</th>\n",
       "      <th>hp_id</th>\n",
       "    </tr>\n",
       "  </thead>\n",
       "  <tbody>\n",
       "    <tr>\n",
       "      <th>0</th>\n",
       "      <td>OMIM:619340</td>\n",
       "      <td>HP:0011097</td>\n",
       "    </tr>\n",
       "    <tr>\n",
       "      <th>1</th>\n",
       "      <td>OMIM:619340</td>\n",
       "      <td>HP:0002187</td>\n",
       "    </tr>\n",
       "    <tr>\n",
       "      <th>2</th>\n",
       "      <td>OMIM:619340</td>\n",
       "      <td>HP:0001518</td>\n",
       "    </tr>\n",
       "    <tr>\n",
       "      <th>3</th>\n",
       "      <td>OMIM:619340</td>\n",
       "      <td>HP:0032792</td>\n",
       "    </tr>\n",
       "    <tr>\n",
       "      <th>4</th>\n",
       "      <td>OMIM:619340</td>\n",
       "      <td>HP:0011451</td>\n",
       "    </tr>\n",
       "    <tr>\n",
       "      <th>...</th>\n",
       "      <td>...</td>\n",
       "      <td>...</td>\n",
       "    </tr>\n",
       "    <tr>\n",
       "      <th>547240</th>\n",
       "      <td>OMIM:146550</td>\n",
       "      <td>HP:0002209</td>\n",
       "    </tr>\n",
       "    <tr>\n",
       "      <th>547241</th>\n",
       "      <td>OMIM:146550</td>\n",
       "      <td>HP:0000653</td>\n",
       "    </tr>\n",
       "    <tr>\n",
       "      <th>547242</th>\n",
       "      <td>OMIM:146550</td>\n",
       "      <td>HP:0045075</td>\n",
       "    </tr>\n",
       "    <tr>\n",
       "      <th>547243</th>\n",
       "      <td>OMIM:146550</td>\n",
       "      <td>HP:0001596</td>\n",
       "    </tr>\n",
       "    <tr>\n",
       "      <th>547244</th>\n",
       "      <td>OMIM:146550</td>\n",
       "      <td>HP:0030056</td>\n",
       "    </tr>\n",
       "  </tbody>\n",
       "</table>\n",
       "<p>541373 rows × 2 columns</p>\n",
       "</div>"
      ],
      "text/plain": [
       "         disease_id       hp_id\n",
       "0       OMIM:619340  HP:0011097\n",
       "1       OMIM:619340  HP:0002187\n",
       "2       OMIM:619340  HP:0001518\n",
       "3       OMIM:619340  HP:0032792\n",
       "4       OMIM:619340  HP:0011451\n",
       "...             ...         ...\n",
       "547240  OMIM:146550  HP:0002209\n",
       "547241  OMIM:146550  HP:0000653\n",
       "547242  OMIM:146550  HP:0045075\n",
       "547243  OMIM:146550  HP:0001596\n",
       "547244  OMIM:146550  HP:0030056\n",
       "\n",
       "[541373 rows x 2 columns]"
      ]
     },
     "execution_count": 73,
     "metadata": {},
     "output_type": "execute_result"
    }
   ],
   "source": [
    "dict_making_df = dict_making_df1.query('disease_id in @disease_set and hp_id in @hpid_set')\n",
    "dict_making_df"
   ]
  },
  {
   "cell_type": "markdown",
   "metadata": {},
   "source": [
    "converting the treated intersection dataframe to np array"
   ]
  },
  {
   "cell_type": "code",
   "execution_count": 74,
   "metadata": {},
   "outputs": [
    {
     "data": {
      "text/plain": [
       "array([['OMIM:619340', 'HP:0011097'],\n",
       "       ['OMIM:619340', 'HP:0002187'],\n",
       "       ['OMIM:619340', 'HP:0001518'],\n",
       "       ...,\n",
       "       ['OMIM:146550', 'HP:0045075'],\n",
       "       ['OMIM:146550', 'HP:0001596'],\n",
       "       ['OMIM:146550', 'HP:0030056']], dtype=object)"
      ]
     },
     "execution_count": 74,
     "metadata": {},
     "output_type": "execute_result"
    }
   ],
   "source": [
    "dict_making_df_np = dict_making_df.to_numpy()\n",
    "dict_making_df_np"
   ]
  },
  {
   "cell_type": "markdown",
   "metadata": {},
   "source": [
    "making of final dictonary - naming convention -- 2"
   ]
  },
  {
   "cell_type": "code",
   "execution_count": 75,
   "metadata": {},
   "outputs": [
    {
     "data": {
      "text/plain": [
       "12737"
      ]
     },
     "execution_count": 75,
     "metadata": {},
     "output_type": "execute_result"
    }
   ],
   "source": [
    "disease_hpo_dict2 = defaultdict(list)\n",
    "\n",
    "for DiseaseID, HPO_ID in dict_making_df_np:\n",
    "    disease_hpo_dict2[DiseaseID].append(HPO_ID)\n",
    "\n",
    "len(disease_hpo_dict2)"
   ]
  },
  {
   "cell_type": "code",
   "execution_count": 76,
   "metadata": {},
   "outputs": [
    {
     "data": {
      "text/plain": [
       "10604"
      ]
     },
     "execution_count": 76,
     "metadata": {},
     "output_type": "execute_result"
    }
   ],
   "source": [
    "hpo_disease_dict2 = defaultdict(list)\n",
    "\n",
    "for DiseaseID, HPO_ID in dict_making_df_np:\n",
    "    hpo_disease_dict2[HPO_ID].append(DiseaseID)\n",
    "\n",
    "len(hpo_disease_dict2)"
   ]
  },
  {
   "cell_type": "markdown",
   "metadata": {},
   "source": [
    "checking for difference between teh dictonaries keys and set \n"
   ]
  },
  {
   "cell_type": "markdown",
   "metadata": {},
   "source": [
    "phenotype differences "
   ]
  },
  {
   "cell_type": "code",
   "execution_count": 77,
   "metadata": {},
   "outputs": [
    {
     "data": {
      "text/plain": [
       "10604"
      ]
     },
     "execution_count": 77,
     "metadata": {},
     "output_type": "execute_result"
    }
   ],
   "source": [
    "hpo_disease_dict2_phenotypes_set = set(hpo_disease_dict2.keys())\n",
    "len(hpo_disease_dict2_phenotypes_set)"
   ]
  },
  {
   "cell_type": "code",
   "execution_count": 78,
   "metadata": {},
   "outputs": [
    {
     "data": {
      "text/plain": [
       "{'HP:0001475',\n",
       " 'HP:0009067',\n",
       " 'HP:0012828',\n",
       " 'HP:0025293',\n",
       " 'HP:0025295',\n",
       " 'HP:0031040'}"
      ]
     },
     "execution_count": 78,
     "metadata": {},
     "output_type": "execute_result"
    }
   ],
   "source": [
    "diff_phenotypes  = hpid_set - hpo_disease_dict2_phenotypes_set\n",
    "diff_phenotypes"
   ]
  },
  {
   "cell_type": "markdown",
   "metadata": {},
   "source": [
    "diff phenotypes                                                             \n",
    "{'HP:0001475',\n",
    " 'HP:0009067',\n",
    " 'HP:0012828',\n",
    " 'HP:0025293',\n",
    " 'HP:0025295',\n",
    " 'HP:0031040'}"
   ]
  },
  {
   "cell_type": "markdown",
   "metadata": {},
   "source": [
    "disease_differences "
   ]
  },
  {
   "cell_type": "code",
   "execution_count": 79,
   "metadata": {},
   "outputs": [
    {
     "data": {
      "text/plain": [
       "12737"
      ]
     },
     "execution_count": 79,
     "metadata": {},
     "output_type": "execute_result"
    }
   ],
   "source": [
    "disease_hpo_dict2_disease_set = set(disease_hpo_dict2.keys())\n",
    "len(disease_hpo_dict2_disease_set)"
   ]
  },
  {
   "cell_type": "code",
   "execution_count": 80,
   "metadata": {},
   "outputs": [
    {
     "data": {
      "text/plain": [
       "set()"
      ]
     },
     "execution_count": 80,
     "metadata": {},
     "output_type": "execute_result"
    }
   ],
   "source": [
    "diff_diseases = disease_set - disease_hpo_dict2_disease_set\n",
    "diff_diseases"
   ]
  },
  {
   "cell_type": "markdown",
   "metadata": {},
   "source": [
    "diff disease - {'OMIM:209108'}\n"
   ]
  },
  {
   "cell_type": "markdown",
   "metadata": {},
   "source": [
    "saving the final dict - dict2"
   ]
  },
  {
   "cell_type": "code",
   "execution_count": 81,
   "metadata": {},
   "outputs": [],
   "source": [
    "def pickle_save(file_name, dict_name):\n",
    "    with open(file_name, 'wb') as handle:\n",
    "        pickle.dump(dict_name, handle, protocol=pickle.HIGHEST_PROTOCOL)"
   ]
  },
  {
   "cell_type": "code",
   "execution_count": 82,
   "metadata": {},
   "outputs": [],
   "source": [
    "version_date = 'v081223'"
   ]
  },
  {
   "cell_type": "code",
   "execution_count": 83,
   "metadata": {},
   "outputs": [],
   "source": [
    "# pickle_save('hpo_disease_dict_' + version_date + '.pickle', hpo_disease_dict2)"
   ]
  },
  {
   "cell_type": "code",
   "execution_count": 84,
   "metadata": {},
   "outputs": [],
   "source": [
    "# pickle_save('disease_hpo_dict_' + version_date + '.pickle', disease_hpo_dict2)"
   ]
  },
  {
   "cell_type": "code",
   "execution_count": 86,
   "metadata": {},
   "outputs": [
    {
     "data": {
      "text/plain": [
       "[]"
      ]
     },
     "execution_count": 86,
     "metadata": {},
     "output_type": "execute_result"
    }
   ],
   "source": [
    "hpo_disease_dict2['HP:0004297']"
   ]
  },
  {
   "cell_type": "code",
   "execution_count": null,
   "metadata": {},
   "outputs": [],
   "source": []
  }
 ],
 "metadata": {
  "kernelspec": {
   "display_name": "Python 3",
   "language": "python",
   "name": "python3"
  },
  "language_info": {
   "codemirror_mode": {
    "name": "ipython",
    "version": 3
   },
   "file_extension": ".py",
   "mimetype": "text/x-python",
   "name": "python",
   "nbconvert_exporter": "python",
   "pygments_lexer": "ipython3",
   "version": "3.10.12"
  }
 },
 "nbformat": 4,
 "nbformat_minor": 2
}
